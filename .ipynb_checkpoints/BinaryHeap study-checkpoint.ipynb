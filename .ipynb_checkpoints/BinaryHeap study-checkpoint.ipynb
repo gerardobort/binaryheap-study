{
 "cells": [
  {
   "cell_type": "code",
   "execution_count": 83,
   "metadata": {
    "collapsed": false
   },
   "outputs": [],
   "source": [
    "# https://en.wikipedia.org/wiki/Binary_heap\n",
    "from drawtree import draw_bst, draw_level_order\n",
    "\n",
    "def get_sample_struct(n):\n",
    "    return map(lambda i: str(i+1), range(n-1))\n",
    "    \n",
    "def draw_bst_struct(nums):\n",
    "    data = '{%s}' % (','.join(nums))\n",
    "    draw_level_order(data)"
   ]
  },
  {
   "cell_type": "code",
   "execution_count": 84,
   "metadata": {
    "collapsed": false
   },
   "outputs": [
    {
     "name": "stdout",
     "output_type": "stream",
     "text": [
      "                                      1\n",
      "                                     / \\\n",
      "                                    /   \\\n",
      "                                   /     \\\n",
      "                                  /       \\\n",
      "                                 /         \\\n",
      "                                /           \\\n",
      "                               /             \\\n",
      "                              /               \\\n",
      "                             /                 \\\n",
      "                            /                   \\\n",
      "                           /                     \\\n",
      "                          /                       \\\n",
      "                         /                         \\\n",
      "                        /                           \\\n",
      "                       /                             \\\n",
      "                      /                               \\\n",
      "                     /                                 \\\n",
      "                    /                                   \\\n",
      "                   /                                     \\\n",
      "                  2                                       3\n",
      "                 / \\                                     / \\\n",
      "                /   \\                                   /   \\\n",
      "               /     \\                                 /     \\\n",
      "              /       \\                               /       \\\n",
      "             /         \\                             /         \\\n",
      "            /           \\                           /           \\\n",
      "           /             \\                         /             \\\n",
      "          /               \\                       /               \\\n",
      "         /                 \\                     /                 \\\n",
      "        4                   5                   6                   7\n",
      "       / \\                 / \\                 / \\                 / \\\n",
      "      /   \\               /   \\               /   \\               /   \\\n",
      "     /     \\             /     \\             /     \\             /     \\\n",
      "    /       \\           /       \\           /       \\           /       \\\n",
      "   8         9         10       11         12       13         14       15\n",
      "  / \\       / \\       / \\       / \\       / \\       / \\       / \\       / \\\n",
      " /   \\     /   \\     /   \\     /   \\     /   \\     /   \\     /   \\     /   \\\n",
      "16   17   18   19   20   21   22   23   24   25   26   27   28   29   30   31\n"
     ]
    }
   ],
   "source": [
    "bst1 = get_sample_struct(32)\n",
    "draw_bst_struct(bst1)"
   ]
  },
  {
   "cell_type": "code",
   "execution_count": 49,
   "metadata": {
    "collapsed": true
   },
   "outputs": [],
   "source": []
  },
  {
   "cell_type": "code",
   "execution_count": 97,
   "metadata": {
    "collapsed": false
   },
   "outputs": [
    {
     "name": "stdout",
     "output_type": "stream",
     "text": [
      "i: 0 num: 0 depth: 0 ndepth: 1 xdepth: 0 xreldepth: 0.0 i_parent: -1\n",
      "i: 1 num: 1 depth: 1 ndepth: 2 xdepth: 0 xreldepth: 0.0 i_parent: 0\n",
      "i: 2 num: 2 depth: 1 ndepth: 2 xdepth: 1 xreldepth: 0.5 i_parent: 0\n",
      "i: 3 num: 3 depth: 2 ndepth: 4 xdepth: 0 xreldepth: 0.0 i_parent: 1\n",
      "i: 4 num: 4 depth: 2 ndepth: 4 xdepth: 1 xreldepth: 0.25 i_parent: 1\n",
      "i: 5 num: 5 depth: 2 ndepth: 4 xdepth: 2 xreldepth: 0.5 i_parent: 2\n",
      "i: 6 num: 6 depth: 2 ndepth: 4 xdepth: 3 xreldepth: 0.75 i_parent: 2\n",
      "i: 7 num: 7 depth: 3 ndepth: 8 xdepth: 0 xreldepth: 0.0 i_parent: 3\n",
      "i: 8 num: 8 depth: 3 ndepth: 8 xdepth: 1 xreldepth: 0.125 i_parent: 3\n",
      "i: 9 num: 9 depth: 3 ndepth: 8 xdepth: 2 xreldepth: 0.25 i_parent: 4\n",
      "i: 10 num: 10 depth: 3 ndepth: 8 xdepth: 3 xreldepth: 0.375 i_parent: 4\n",
      "i: 11 num: 11 depth: 3 ndepth: 8 xdepth: 4 xreldepth: 0.5 i_parent: 5\n",
      "i: 12 num: 12 depth: 3 ndepth: 8 xdepth: 5 xreldepth: 0.625 i_parent: 5\n",
      "i: 13 num: 13 depth: 3 ndepth: 8 xdepth: 6 xreldepth: 0.75 i_parent: 6\n",
      "i: 14 num: 14 depth: 3 ndepth: 8 xdepth: 7 xreldepth: 0.875 i_parent: 6\n",
      "i: 15 num: 15 depth: 4 ndepth: 16 xdepth: 0 xreldepth: 0.0 i_parent: 7\n",
      "i: 16 num: 16 depth: 4 ndepth: 16 xdepth: 1 xreldepth: 0.0625 i_parent: 7\n",
      "i: 17 num: 17 depth: 4 ndepth: 16 xdepth: 2 xreldepth: 0.125 i_parent: 8\n",
      "i: 18 num: 18 depth: 4 ndepth: 16 xdepth: 3 xreldepth: 0.1875 i_parent: 8\n",
      "i: 19 num: 19 depth: 4 ndepth: 16 xdepth: 4 xreldepth: 0.25 i_parent: 9\n",
      "i: 20 num: 20 depth: 4 ndepth: 16 xdepth: 5 xreldepth: 0.3125 i_parent: 9\n",
      "i: 21 num: 21 depth: 4 ndepth: 16 xdepth: 6 xreldepth: 0.375 i_parent: 10\n",
      "i: 22 num: 22 depth: 4 ndepth: 16 xdepth: 7 xreldepth: 0.4375 i_parent: 10\n",
      "i: 23 num: 23 depth: 4 ndepth: 16 xdepth: 8 xreldepth: 0.5 i_parent: 11\n",
      "i: 24 num: 24 depth: 4 ndepth: 16 xdepth: 9 xreldepth: 0.5625 i_parent: 11\n",
      "i: 25 num: 25 depth: 4 ndepth: 16 xdepth: 10 xreldepth: 0.625 i_parent: 12\n",
      "i: 26 num: 26 depth: 4 ndepth: 16 xdepth: 11 xreldepth: 0.6875 i_parent: 12\n",
      "i: 27 num: 27 depth: 4 ndepth: 16 xdepth: 12 xreldepth: 0.75 i_parent: 13\n",
      "i: 28 num: 28 depth: 4 ndepth: 16 xdepth: 13 xreldepth: 0.8125 i_parent: 13\n",
      "i: 29 num: 29 depth: 4 ndepth: 16 xdepth: 14 xreldepth: 0.875 i_parent: 14\n",
      "i: 30 num: 30 depth: 4 ndepth: 16 xdepth: 15 xreldepth: 0.9375 i_parent: 14\n",
      "i: 31 num: 31 depth: 5 ndepth: 32 xdepth: 0 xreldepth: 0.0 i_parent: 15\n",
      "i: 32 num: 32 depth: 5 ndepth: 32 xdepth: 1 xreldepth: 0.03125 i_parent: 15\n",
      "i: 33 num: 33 depth: 5 ndepth: 32 xdepth: 2 xreldepth: 0.0625 i_parent: 16\n"
     ]
    }
   ],
   "source": [
    "import math\n",
    "\n",
    "def depth(i):\n",
    "    return int(math.log(i + 1, 2))\n",
    "\n",
    "def x_depth(i):\n",
    "    return int(i - math.pow(2, depth(i)) + 1)\n",
    "\n",
    "def n_depth(i):\n",
    "    return pow(2, depth(i))\n",
    "\n",
    "def x_rel_depth(i):\n",
    "    return x_depth(i)/float(n_depth(i))\n",
    "\n",
    "def i_parent(i):\n",
    "    return (i - 1)/2\n",
    "\n",
    "\n",
    "for i in range(0, 34):\n",
    "    num = i #bst1[i]\n",
    "    print \"i:\", i, \"num:\", num, \"depth:\", depth(i), \"ndepth:\", n_depth(i), \"xdepth:\", x_depth(i), \"xreldepth:\", x_rel_depth(i), \"i_parent:\", i_parent(i)     #"
   ]
  }
 ],
 "metadata": {
  "kernelspec": {
   "display_name": "Python 2",
   "language": "python",
   "name": "python2"
  },
  "language_info": {
   "codemirror_mode": {
    "name": "ipython",
    "version": 2
   },
   "file_extension": ".py",
   "mimetype": "text/x-python",
   "name": "python",
   "nbconvert_exporter": "python",
   "pygments_lexer": "ipython2",
   "version": "2.7.13"
  }
 },
 "nbformat": 4,
 "nbformat_minor": 2
}
